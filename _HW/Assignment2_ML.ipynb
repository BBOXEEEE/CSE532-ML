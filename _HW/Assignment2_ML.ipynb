{
 "cells": [
  {
   "cell_type": "markdown",
   "id": "7fef2664-997c-40c6-9a13-6783f96cb3a6",
   "metadata": {},
   "source": [
    "# Classification with Mult-layer Perceptron"
   ]
  },
  {
   "cell_type": "markdown",
   "id": "46a431ab-23b7-4b7a-8bdd-cb4ecb820489",
   "metadata": {},
   "source": [
    "In this module, you will learn how to perform classification in scikit-lean with multi-layer perceptron. We will take a look at the mnist dataset, which is a classic for testing out classification algorithms. Finally, we will use the accuracy score for evaluating how good the model we create really is."
   ]
  },
  {
   "cell_type": "markdown",
   "id": "0cb886b0-8e60-4ba0-81c4-dad7416f7dae",
   "metadata": {},
   "source": [
    "<b>Functions and attributes in this lecture: </b>\n",
    "- `pandas:` - Pandas package with alias `pd`\n",
    "  - `.value_counts()` - Get the value distribution for the pandas series\n",
    "  - `.corr()` - Get the correlation matrix for a pandas dataframe\n",
    "- `sklearn.linear_model` - Submodule for linear models\n",
    "  - `Perceptron()` - The perceptron model\n",
    "    - `.fit()` - Training the model on the data\n",
    "    - `.predict()` - Predicting on new data using the model\n",
    "    - `.predict_proba()` - Get the precentages for prediction on new data using the model\n",
    "- `sklearn.neural_network` - Submodule for neural networks model\n",
    "  - `MLPClassifier()` - The multi-layer perceptron classification model\n",
    "    - `.fit()` - Training the model on the data\n",
    "    - `.predict()` - Predicting on new data using the model\n",
    "    - `.predict_proba()` - Get the precentages for prediction on new data using the model\n",
    "- `sklearn.metrics` - Submodule for metrics used to evaluate models\n",
    "  - `accuracy_score()` - Finding the accuracy score for a set of predictions"
   ]
  },
  {
   "cell_type": "code",
   "execution_count": 1,
   "id": "59c17dab-8012-4356-8967-46b874dbcb10",
   "metadata": {},
   "outputs": [],
   "source": [
    "# Non-sklearn packages\n",
    "import numpy as np\n",
    "import pandas as pd\n",
    "\n",
    "# Sklearn modules & functions\n",
    "from sklearn import datasets\n",
    "from sklearn.model_selection import train_test_split"
   ]
  },
  {
   "cell_type": "markdown",
   "id": "3dbeb792-4d7c-40cf-9f0a-baa4fd9f0d04",
   "metadata": {},
   "source": [
    "## Working with the MNIST Dataset"
   ]
  },
  {
   "cell_type": "code",
   "execution_count": 2,
   "id": "8f768d0c-74e5-41bf-b8fc-31e1177a027b",
   "metadata": {},
   "outputs": [
    {
     "name": "stderr",
     "output_type": "stream",
     "text": [
      "/home/user/Downloads/yes/envs/nlp/lib/python3.12/site-packages/sklearn/datasets/_openml.py:1002: FutureWarning: The default value of `parser` will change from `'liac-arff'` to `'auto'` in 1.4. You can set `parser='auto'` to silence this warning. Therefore, an `ImportError` will be raised from 1.4 if the dataset is dense and pandas is not installed. Note that the pandas parser may return different data types. See the Notes Section in fetch_openml's API doc for details.\n",
      "  warn(\n"
     ]
    }
   ],
   "source": [
    "# Loading the MNIST dataset\n",
    "mnist = datasets.fetch_openml('mnist_784', as_frame=True)"
   ]
  },
  {
   "cell_type": "code",
   "execution_count": 7,
   "id": "90a28192-1daa-47b2-8c42-0ac0b85c2764",
   "metadata": {},
   "outputs": [
    {
     "name": "stdout",
     "output_type": "stream",
     "text": [
      "**Author**: Yann LeCun, Corinna Cortes, Christopher J.C. Burges  \n",
      "**Source**: [MNIST Website](http://yann.lecun.com/exdb/mnist/) - Date unknown  \n",
      "**Please cite**:  \n",
      "\n",
      "The MNIST database of handwritten digits with 784 features, raw data available at: http://yann.lecun.com/exdb/mnist/. It can be split in a training set of the first 60,000 examples, and a test set of 10,000 examples  \n",
      "\n",
      "It is a subset of a larger set available from NIST. The digits have been size-normalized and centered in a fixed-size image. It is a good database for people who want to try learning techniques and pattern recognition methods on real-world data while spending minimal efforts on preprocessing and formatting. The original black and white (bilevel) images from NIST were size normalized to fit in a 20x20 pixel box while preserving their aspect ratio. The resulting images contain grey levels as a result of the anti-aliasing technique used by the normalization algorithm. the images were centered in a 28x28 image by computing the center of mass of the pixels, and translating the image so as to position this point at the center of the 28x28 field.  \n",
      "\n",
      "With some classification methods (particularly template-based methods, such as SVM and K-nearest neighbors), the error rate improves when the digits are centered by bounding box rather than center of mass. If you do this kind of pre-processing, you should report it in your publications. The MNIST database was constructed from NIST's NIST originally designated SD-3 as their training set and SD-1 as their test set. However, SD-3 is much cleaner and easier to recognize than SD-1. The reason for this can be found on the fact that SD-3 was collected among Census Bureau employees, while SD-1 was collected among high-school students. Drawing sensible conclusions from learning experiments requires that the result be independent of the choice of training set and test among the complete set of samples. Therefore it was necessary to build a new database by mixing NIST's datasets.  \n",
      "\n",
      "The MNIST training set is composed of 30,000 patterns from SD-3 and 30,000 patterns from SD-1. Our test set was composed of 5,000 patterns from SD-3 and 5,000 patterns from SD-1. The 60,000 pattern training set contained examples from approximately 250 writers. We made sure that the sets of writers of the training set and test set were disjoint. SD-1 contains 58,527 digit images written by 500 different writers. In contrast to SD-3, where blocks of data from each writer appeared in sequence, the data in SD-1 is scrambled. Writer identities for SD-1 is available and we used this information to unscramble the writers. We then split SD-1 in two: characters written by the first 250 writers went into our new training set. The remaining 250 writers were placed in our test set. Thus we had two sets with nearly 30,000 examples each. The new training set was completed with enough examples from SD-3, starting at pattern # 0, to make a full set of 60,000 training patterns. Similarly, the new test set was completed with SD-3 examples starting at pattern # 35,000 to make a full set with 60,000 test patterns. Only a subset of 10,000 test images (5,000 from SD-1 and 5,000 from SD-3) is available on this site. The full 60,000 sample training set is available.\n",
      "\n",
      "Downloaded from openml.org.\n"
     ]
    }
   ],
   "source": [
    "# Some info about the dataset\n",
    "print(mnist['DESCR'])"
   ]
  },
  {
   "cell_type": "code",
   "execution_count": 8,
   "id": "a1ae6c88-7a7b-4809-a134-d9a0aef80ea5",
   "metadata": {},
   "outputs": [
    {
     "data": {
      "text/plain": [
       "((70000, 784), (70000,))"
      ]
     },
     "execution_count": 8,
     "metadata": {},
     "output_type": "execute_result"
    }
   ],
   "source": [
    "# Checking the shape of the data\n",
    "X, y = mnist.data, mnist.target\n",
    "X.shape, y.shape"
   ]
  },
  {
   "cell_type": "code",
   "execution_count": null,
   "id": "63e086bf-5b80-4991-9891-59731bf70a4c",
   "metadata": {},
   "outputs": [],
   "source": [
    "import matplotlib.pyplot as plt\n",
    "\n",
    "def plot_digit(image_data):\n",
    "    image = image_data.values.reshape(28, 28)\n",
    "    plt.imshow(image, cmap=\"binary\")\n",
    "    plt.axis(\"off\")\n",
    "\n",
    "some_digit = X.iloc[1]\n",
    "plot_digit(some_digit)\n",
    "plt.show()"
   ]
  },
  {
   "cell_type": "code",
   "execution_count": null,
   "id": "3f213f6c-404e-432f-a250-e286630c81d6",
   "metadata": {},
   "outputs": [],
   "source": [
    "plt.figure(figsize=(9, 9))\n",
    "for idx, image_data in X[:100].iterrows():\n",
    "    plt.subplot(10, 10, idx + 1)\n",
    "    plot_digit(image_data)\n",
    "plt.subplots_adjust(wspace=0, hspace=0)\n",
    "plt.show()"
   ]
  },
  {
   "cell_type": "code",
   "execution_count": 9,
   "id": "11fa8a00-269d-4a9c-8ff6-607f62df2deb",
   "metadata": {},
   "outputs": [],
   "source": [
    "# Dividing up into training sets (60,000) and testing sets (10,000)\n",
    "X_train, X_test, y_train, y_test = X[:60000], X[60000:], y[:60000], y[60000:]"
   ]
  },
  {
   "cell_type": "markdown",
   "id": "76feb8dc-c8a5-4d58-af70-aed8832451ad",
   "metadata": {},
   "source": [
    "## Perceptron"
   ]
  },
  {
   "cell_type": "code",
   "execution_count": 17,
   "id": "84cc5569-042b-4138-95da-8e24debebf3a",
   "metadata": {},
   "outputs": [],
   "source": [
    "# Importing the Perceptron classifier\n",
    "from sklearn.linear_model import Perceptron"
   ]
  },
  {
   "cell_type": "code",
   "execution_count": 18,
   "id": "1e699fc2-f81a-41ec-af23-7406f2a63b04",
   "metadata": {},
   "outputs": [],
   "source": [
    "# Initiating a Perceptron classifier\n",
    "perceptron_cls = Perceptron()"
   ]
  },
  {
   "cell_type": "code",
   "execution_count": 19,
   "id": "f215109d-a938-4575-bf8b-34a91ebf88f1",
   "metadata": {},
   "outputs": [
    {
     "data": {
      "text/html": [
       "<style>#sk-container-id-3 {color: black;}#sk-container-id-3 pre{padding: 0;}#sk-container-id-3 div.sk-toggleable {background-color: white;}#sk-container-id-3 label.sk-toggleable__label {cursor: pointer;display: block;width: 100%;margin-bottom: 0;padding: 0.3em;box-sizing: border-box;text-align: center;}#sk-container-id-3 label.sk-toggleable__label-arrow:before {content: \"▸\";float: left;margin-right: 0.25em;color: #696969;}#sk-container-id-3 label.sk-toggleable__label-arrow:hover:before {color: black;}#sk-container-id-3 div.sk-estimator:hover label.sk-toggleable__label-arrow:before {color: black;}#sk-container-id-3 div.sk-toggleable__content {max-height: 0;max-width: 0;overflow: hidden;text-align: left;background-color: #f0f8ff;}#sk-container-id-3 div.sk-toggleable__content pre {margin: 0.2em;color: black;border-radius: 0.25em;background-color: #f0f8ff;}#sk-container-id-3 input.sk-toggleable__control:checked~div.sk-toggleable__content {max-height: 200px;max-width: 100%;overflow: auto;}#sk-container-id-3 input.sk-toggleable__control:checked~label.sk-toggleable__label-arrow:before {content: \"▾\";}#sk-container-id-3 div.sk-estimator input.sk-toggleable__control:checked~label.sk-toggleable__label {background-color: #d4ebff;}#sk-container-id-3 div.sk-label input.sk-toggleable__control:checked~label.sk-toggleable__label {background-color: #d4ebff;}#sk-container-id-3 input.sk-hidden--visually {border: 0;clip: rect(1px 1px 1px 1px);clip: rect(1px, 1px, 1px, 1px);height: 1px;margin: -1px;overflow: hidden;padding: 0;position: absolute;width: 1px;}#sk-container-id-3 div.sk-estimator {font-family: monospace;background-color: #f0f8ff;border: 1px dotted black;border-radius: 0.25em;box-sizing: border-box;margin-bottom: 0.5em;}#sk-container-id-3 div.sk-estimator:hover {background-color: #d4ebff;}#sk-container-id-3 div.sk-parallel-item::after {content: \"\";width: 100%;border-bottom: 1px solid gray;flex-grow: 1;}#sk-container-id-3 div.sk-label:hover label.sk-toggleable__label {background-color: #d4ebff;}#sk-container-id-3 div.sk-serial::before {content: \"\";position: absolute;border-left: 1px solid gray;box-sizing: border-box;top: 0;bottom: 0;left: 50%;z-index: 0;}#sk-container-id-3 div.sk-serial {display: flex;flex-direction: column;align-items: center;background-color: white;padding-right: 0.2em;padding-left: 0.2em;position: relative;}#sk-container-id-3 div.sk-item {position: relative;z-index: 1;}#sk-container-id-3 div.sk-parallel {display: flex;align-items: stretch;justify-content: center;background-color: white;position: relative;}#sk-container-id-3 div.sk-item::before, #sk-container-id-3 div.sk-parallel-item::before {content: \"\";position: absolute;border-left: 1px solid gray;box-sizing: border-box;top: 0;bottom: 0;left: 50%;z-index: -1;}#sk-container-id-3 div.sk-parallel-item {display: flex;flex-direction: column;z-index: 1;position: relative;background-color: white;}#sk-container-id-3 div.sk-parallel-item:first-child::after {align-self: flex-end;width: 50%;}#sk-container-id-3 div.sk-parallel-item:last-child::after {align-self: flex-start;width: 50%;}#sk-container-id-3 div.sk-parallel-item:only-child::after {width: 0;}#sk-container-id-3 div.sk-dashed-wrapped {border: 1px dashed gray;margin: 0 0.4em 0.5em 0.4em;box-sizing: border-box;padding-bottom: 0.4em;background-color: white;}#sk-container-id-3 div.sk-label label {font-family: monospace;font-weight: bold;display: inline-block;line-height: 1.2em;}#sk-container-id-3 div.sk-label-container {text-align: center;}#sk-container-id-3 div.sk-container {/* jupyter's `normalize.less` sets `[hidden] { display: none; }` but bootstrap.min.css set `[hidden] { display: none !important; }` so we also need the `!important` here to be able to override the default hidden behavior on the sphinx rendered scikit-learn.org. See: https://github.com/scikit-learn/scikit-learn/issues/21755 */display: inline-block !important;position: relative;}#sk-container-id-3 div.sk-text-repr-fallback {display: none;}</style><div id=\"sk-container-id-3\" class=\"sk-top-container\"><div class=\"sk-text-repr-fallback\"><pre>Perceptron()</pre><b>In a Jupyter environment, please rerun this cell to show the HTML representation or trust the notebook. <br />On GitHub, the HTML representation is unable to render, please try loading this page with nbviewer.org.</b></div><div class=\"sk-container\" hidden><div class=\"sk-item\"><div class=\"sk-estimator sk-toggleable\"><input class=\"sk-toggleable__control sk-hidden--visually\" id=\"sk-estimator-id-3\" type=\"checkbox\" checked><label for=\"sk-estimator-id-3\" class=\"sk-toggleable__label sk-toggleable__label-arrow\">Perceptron</label><div class=\"sk-toggleable__content\"><pre>Perceptron()</pre></div></div></div></div></div>"
      ],
      "text/plain": [
       "Perceptron()"
      ]
     },
     "execution_count": 19,
     "metadata": {},
     "output_type": "execute_result"
    }
   ],
   "source": [
    "# Fit the logistic regression on the training data\n",
    "perceptron_cls.fit(X_train, y_train)"
   ]
  },
  {
   "cell_type": "code",
   "execution_count": 20,
   "id": "c1b1e92e-8528-4702-9561-6ca732c47c14",
   "metadata": {},
   "outputs": [],
   "source": [
    "# Predict the labels\n",
    "y_pred = perceptron_cls.predict(X_test)"
   ]
  },
  {
   "cell_type": "code",
   "execution_count": 21,
   "id": "4670bc38-1c5c-4927-be4c-05437ce31919",
   "metadata": {},
   "outputs": [
    {
     "data": {
      "text/plain": [
       "0.8897"
      ]
     },
     "execution_count": 21,
     "metadata": {},
     "output_type": "execute_result"
    }
   ],
   "source": [
    "from sklearn.metrics import accuracy_score\n",
    "\n",
    "accuracy = accuracy_score(y_pred, y_test)\n",
    "accuracy"
   ]
  },
  {
   "cell_type": "markdown",
   "id": "e57b78ff-053a-487d-a3e2-6c271f0db506",
   "metadata": {},
   "source": [
    "## Multi-layer Perceptron"
   ]
  },
  {
   "cell_type": "markdown",
   "id": "42ccedc5-6a20-4ef1-88d4-f06d95db3d7f",
   "metadata": {},
   "source": [
    "Assignment 2: Build a classifier with the MNIST dataset and achieve 98% accuracy on the test set. All you need to do is find good hyperparameter values. (hideen_layer_sizes, activation, learning_rate)\n",
    "(You have to fix the random_state as 42)"
   ]
  },
  {
   "cell_type": "code",
   "execution_count": 22,
   "id": "e663e311-8efc-4a1e-aeac-6e68e5de4d35",
   "metadata": {},
   "outputs": [],
   "source": [
    "# Importing the Multi-layer Perceptron classifier\n",
    "from sklearn.neural_network import MLPClassifier"
   ]
  },
  {
   "cell_type": "code",
   "execution_count": 42,
   "id": "613586be-861f-4a57-a36f-258a3d41f077",
   "metadata": {},
   "outputs": [],
   "source": [
    "# Initiating a logistic regression instance\n",
    "model = MLPClassifier(\n",
    "    hidden_layer_sizes = (1000,),\n",
    "    alpha = 0.1,\n",
    "    early_stopping = True,\n",
    "    random_state = 42,\n",
    "    verbose = True\n",
    ")"
   ]
  },
  {
   "cell_type": "code",
   "execution_count": 43,
   "id": "c3487e33-d8b1-4d22-8a2d-4faabecb0cb6",
   "metadata": {},
   "outputs": [
    {
     "name": "stdout",
     "output_type": "stream",
     "text": [
      "Iteration 1, loss = 2.51573810\n",
      "Validation score: 0.943500\n",
      "Iteration 2, loss = 0.71805856\n",
      "Validation score: 0.954000\n",
      "Iteration 3, loss = 0.43294276\n",
      "Validation score: 0.956500\n",
      "Iteration 4, loss = 0.36772893\n",
      "Validation score: 0.955500\n",
      "Iteration 5, loss = 0.31667664\n",
      "Validation score: 0.962333\n",
      "Iteration 6, loss = 0.30624957\n",
      "Validation score: 0.961833\n",
      "Iteration 7, loss = 0.31612305\n",
      "Validation score: 0.962167\n",
      "Iteration 8, loss = 0.31445597\n",
      "Validation score: 0.959667\n",
      "Iteration 9, loss = 0.33522190\n",
      "Validation score: 0.968333\n",
      "Iteration 10, loss = 0.31652646\n",
      "Validation score: 0.962500\n",
      "Iteration 11, loss = 0.32709626\n",
      "Validation score: 0.965000\n",
      "Iteration 12, loss = 0.34674431\n",
      "Validation score: 0.967833\n",
      "Iteration 13, loss = 0.27979641\n",
      "Validation score: 0.960667\n",
      "Iteration 14, loss = 0.31046105\n",
      "Validation score: 0.968667\n",
      "Iteration 15, loss = 0.31655378\n",
      "Validation score: 0.964000\n",
      "Iteration 16, loss = 0.33338668\n",
      "Validation score: 0.960000\n",
      "Iteration 17, loss = 0.31827348\n",
      "Validation score: 0.963500\n",
      "Iteration 18, loss = 0.32183966\n",
      "Validation score: 0.963833\n",
      "Iteration 19, loss = 0.32609180\n",
      "Validation score: 0.967000\n",
      "Iteration 20, loss = 0.33155915\n",
      "Validation score: 0.964667\n",
      "Iteration 21, loss = 0.31364882\n",
      "Validation score: 0.968500\n",
      "Iteration 22, loss = 0.31999441\n",
      "Validation score: 0.969000\n",
      "Iteration 23, loss = 0.31054332\n",
      "Validation score: 0.969333\n",
      "Iteration 24, loss = 0.33798469\n",
      "Validation score: 0.971167\n",
      "Iteration 25, loss = 0.31406993\n",
      "Validation score: 0.965500\n",
      "Iteration 26, loss = 0.36478685\n",
      "Validation score: 0.965833\n",
      "Iteration 27, loss = 0.33209809\n",
      "Validation score: 0.969500\n",
      "Iteration 28, loss = 0.28639760\n",
      "Validation score: 0.969667\n",
      "Iteration 29, loss = 0.28687451\n",
      "Validation score: 0.973500\n",
      "Iteration 30, loss = 0.26241042\n",
      "Validation score: 0.971500\n",
      "Iteration 31, loss = 0.26134708\n",
      "Validation score: 0.972000\n",
      "Iteration 32, loss = 0.26160050\n",
      "Validation score: 0.968500\n",
      "Iteration 33, loss = 0.30643886\n",
      "Validation score: 0.973667\n",
      "Iteration 34, loss = 0.29863975\n",
      "Validation score: 0.971333\n",
      "Iteration 35, loss = 0.30653723\n",
      "Validation score: 0.970000\n",
      "Iteration 36, loss = 0.30761090\n",
      "Validation score: 0.974000\n",
      "Iteration 37, loss = 0.30963919\n",
      "Validation score: 0.970000\n",
      "Iteration 38, loss = 0.28296098\n",
      "Validation score: 0.972000\n",
      "Iteration 39, loss = 0.27763623\n",
      "Validation score: 0.973500\n",
      "Iteration 40, loss = 0.27458953\n",
      "Validation score: 0.973000\n",
      "Iteration 41, loss = 0.26679597\n",
      "Validation score: 0.968333\n",
      "Iteration 42, loss = 0.29104258\n",
      "Validation score: 0.972500\n",
      "Iteration 43, loss = 0.28716284\n",
      "Validation score: 0.969500\n",
      "Iteration 44, loss = 0.27265571\n",
      "Validation score: 0.971333\n",
      "Iteration 45, loss = 0.24870403\n",
      "Validation score: 0.971500\n",
      "Iteration 46, loss = 0.25854291\n",
      "Validation score: 0.968333\n",
      "Iteration 47, loss = 0.27085527\n",
      "Validation score: 0.971500\n",
      "Validation score did not improve more than tol=0.000100 for 10 consecutive epochs. Stopping.\n"
     ]
    },
    {
     "data": {
      "text/html": [
       "<style>#sk-container-id-9 {color: black;}#sk-container-id-9 pre{padding: 0;}#sk-container-id-9 div.sk-toggleable {background-color: white;}#sk-container-id-9 label.sk-toggleable__label {cursor: pointer;display: block;width: 100%;margin-bottom: 0;padding: 0.3em;box-sizing: border-box;text-align: center;}#sk-container-id-9 label.sk-toggleable__label-arrow:before {content: \"▸\";float: left;margin-right: 0.25em;color: #696969;}#sk-container-id-9 label.sk-toggleable__label-arrow:hover:before {color: black;}#sk-container-id-9 div.sk-estimator:hover label.sk-toggleable__label-arrow:before {color: black;}#sk-container-id-9 div.sk-toggleable__content {max-height: 0;max-width: 0;overflow: hidden;text-align: left;background-color: #f0f8ff;}#sk-container-id-9 div.sk-toggleable__content pre {margin: 0.2em;color: black;border-radius: 0.25em;background-color: #f0f8ff;}#sk-container-id-9 input.sk-toggleable__control:checked~div.sk-toggleable__content {max-height: 200px;max-width: 100%;overflow: auto;}#sk-container-id-9 input.sk-toggleable__control:checked~label.sk-toggleable__label-arrow:before {content: \"▾\";}#sk-container-id-9 div.sk-estimator input.sk-toggleable__control:checked~label.sk-toggleable__label {background-color: #d4ebff;}#sk-container-id-9 div.sk-label input.sk-toggleable__control:checked~label.sk-toggleable__label {background-color: #d4ebff;}#sk-container-id-9 input.sk-hidden--visually {border: 0;clip: rect(1px 1px 1px 1px);clip: rect(1px, 1px, 1px, 1px);height: 1px;margin: -1px;overflow: hidden;padding: 0;position: absolute;width: 1px;}#sk-container-id-9 div.sk-estimator {font-family: monospace;background-color: #f0f8ff;border: 1px dotted black;border-radius: 0.25em;box-sizing: border-box;margin-bottom: 0.5em;}#sk-container-id-9 div.sk-estimator:hover {background-color: #d4ebff;}#sk-container-id-9 div.sk-parallel-item::after {content: \"\";width: 100%;border-bottom: 1px solid gray;flex-grow: 1;}#sk-container-id-9 div.sk-label:hover label.sk-toggleable__label {background-color: #d4ebff;}#sk-container-id-9 div.sk-serial::before {content: \"\";position: absolute;border-left: 1px solid gray;box-sizing: border-box;top: 0;bottom: 0;left: 50%;z-index: 0;}#sk-container-id-9 div.sk-serial {display: flex;flex-direction: column;align-items: center;background-color: white;padding-right: 0.2em;padding-left: 0.2em;position: relative;}#sk-container-id-9 div.sk-item {position: relative;z-index: 1;}#sk-container-id-9 div.sk-parallel {display: flex;align-items: stretch;justify-content: center;background-color: white;position: relative;}#sk-container-id-9 div.sk-item::before, #sk-container-id-9 div.sk-parallel-item::before {content: \"\";position: absolute;border-left: 1px solid gray;box-sizing: border-box;top: 0;bottom: 0;left: 50%;z-index: -1;}#sk-container-id-9 div.sk-parallel-item {display: flex;flex-direction: column;z-index: 1;position: relative;background-color: white;}#sk-container-id-9 div.sk-parallel-item:first-child::after {align-self: flex-end;width: 50%;}#sk-container-id-9 div.sk-parallel-item:last-child::after {align-self: flex-start;width: 50%;}#sk-container-id-9 div.sk-parallel-item:only-child::after {width: 0;}#sk-container-id-9 div.sk-dashed-wrapped {border: 1px dashed gray;margin: 0 0.4em 0.5em 0.4em;box-sizing: border-box;padding-bottom: 0.4em;background-color: white;}#sk-container-id-9 div.sk-label label {font-family: monospace;font-weight: bold;display: inline-block;line-height: 1.2em;}#sk-container-id-9 div.sk-label-container {text-align: center;}#sk-container-id-9 div.sk-container {/* jupyter's `normalize.less` sets `[hidden] { display: none; }` but bootstrap.min.css set `[hidden] { display: none !important; }` so we also need the `!important` here to be able to override the default hidden behavior on the sphinx rendered scikit-learn.org. See: https://github.com/scikit-learn/scikit-learn/issues/21755 */display: inline-block !important;position: relative;}#sk-container-id-9 div.sk-text-repr-fallback {display: none;}</style><div id=\"sk-container-id-9\" class=\"sk-top-container\"><div class=\"sk-text-repr-fallback\"><pre>MLPClassifier(alpha=0.1, early_stopping=True, hidden_layer_sizes=(1000,),\n",
       "              random_state=42, verbose=True)</pre><b>In a Jupyter environment, please rerun this cell to show the HTML representation or trust the notebook. <br />On GitHub, the HTML representation is unable to render, please try loading this page with nbviewer.org.</b></div><div class=\"sk-container\" hidden><div class=\"sk-item\"><div class=\"sk-estimator sk-toggleable\"><input class=\"sk-toggleable__control sk-hidden--visually\" id=\"sk-estimator-id-9\" type=\"checkbox\" checked><label for=\"sk-estimator-id-9\" class=\"sk-toggleable__label sk-toggleable__label-arrow\">MLPClassifier</label><div class=\"sk-toggleable__content\"><pre>MLPClassifier(alpha=0.1, early_stopping=True, hidden_layer_sizes=(1000,),\n",
       "              random_state=42, verbose=True)</pre></div></div></div></div></div>"
      ],
      "text/plain": [
       "MLPClassifier(alpha=0.1, early_stopping=True, hidden_layer_sizes=(1000,),\n",
       "              random_state=42, verbose=True)"
      ]
     },
     "execution_count": 43,
     "metadata": {},
     "output_type": "execute_result"
    }
   ],
   "source": [
    "# Fit the logistic regression on the training data\n",
    "model.fit(X_train, y_train)"
   ]
  },
  {
   "cell_type": "code",
   "execution_count": 52,
   "id": "ae979293-787b-4444-9c08-0d1b9bd81516",
   "metadata": {},
   "outputs": [
    {
     "name": "stderr",
     "output_type": "stream",
     "text": [
      "/home/user/Downloads/yes/envs/nlp/lib/python3.12/site-packages/sklearn/base.py:464: UserWarning: X does not have valid feature names, but MLPClassifier was fitted with feature names\n",
      "  warnings.warn(\n"
     ]
    },
    {
     "data": {
      "text/plain": [
       "array(['2'], dtype='<U1')"
      ]
     },
     "execution_count": 52,
     "metadata": {},
     "output_type": "execute_result"
    }
   ],
   "source": [
    "# Predict one example in test dataset\n",
    "idx = 1\n",
    "sample = X_test.iloc[idx].values.reshape(1, -1)\n",
    "model.predict(sample)"
   ]
  },
  {
   "cell_type": "code",
   "execution_count": null,
   "id": "76050f03-dcf2-414f-a284-befa36b2c621",
   "metadata": {},
   "outputs": [],
   "source": [
    "# Can also predict the probability for each class\n",
    "pred_proba = model.predict_proba(X_test)\n",
    "pred_proba"
   ]
  },
  {
   "cell_type": "markdown",
   "id": "45d976ed-56b2-43fa-8f2c-14a776d896a8",
   "metadata": {},
   "source": [
    "## Evaluating the model: Accuracy Score"
   ]
  },
  {
   "cell_type": "markdown",
   "id": "558bce5c-fc56-402a-960d-58fb14cfe52e",
   "metadata": {},
   "source": [
    "We need to evaluate our MLP model. The most common way of doing this is with the accuracy score!"
   ]
  },
  {
   "cell_type": "code",
   "execution_count": 46,
   "id": "fd8e5633-9da4-49d2-bb16-913f58b31fdc",
   "metadata": {},
   "outputs": [],
   "source": [
    "# Predict the labels\n",
    "y_pred = model.predict(X_test)"
   ]
  },
  {
   "cell_type": "code",
   "execution_count": 48,
   "id": "59963c4f-6118-4e96-b0eb-8b77ce2e50f1",
   "metadata": {},
   "outputs": [
    {
     "name": "stdout",
     "output_type": "stream",
     "text": [
      "Training accuracy: 0.991\n",
      "Test accuracy: 0.974\n"
     ]
    }
   ],
   "source": [
    "# Use the accuracy score function\n",
    "print(f\"Training accuracy: {model.score(X_train, y_train):.3f}\")\n",
    "print(f\"Test accuracy: {accuracy_score(y_pred, y_test):.3f}\")"
   ]
  }
 ],
 "metadata": {
  "kernelspec": {
   "display_name": "Python 3 (ipykernel)",
   "language": "python",
   "name": "python3"
  },
  "language_info": {
   "codemirror_mode": {
    "name": "ipython",
    "version": 3
   },
   "file_extension": ".py",
   "mimetype": "text/x-python",
   "name": "python",
   "nbconvert_exporter": "python",
   "pygments_lexer": "ipython3",
   "version": "3.12.2"
  }
 },
 "nbformat": 4,
 "nbformat_minor": 5
}
